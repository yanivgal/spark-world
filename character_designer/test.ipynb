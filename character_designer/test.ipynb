{
 "cells": [
  {
   "cell_type": "code",
   "execution_count": 11,
   "id": "5b84eae9",
   "metadata": {},
   "outputs": [],
   "source": [
    "from shard_sower_dspy import ShardSower, CharacterSeed, ShardSowerSignature\n",
    "from dspy_init import get_dspy"
   ]
  },
  {
   "cell_type": "code",
   "execution_count": 12,
   "id": "5042cccb",
   "metadata": {},
   "outputs": [],
   "source": [
    "dspy, lm = get_dspy()"
   ]
  },
  {
   "cell_type": "code",
   "execution_count": 17,
   "id": "1d9a6711",
   "metadata": {},
   "outputs": [
    {
     "name": "stderr",
     "output_type": "stream",
     "text": [
      "2025/07/26 20:24:15 WARNING dspy.predict.predict: Not all input fields were provided to module. Present: ['random_seed', 'num_characters']. Missing: ['existing_characters'].\n"
     ]
    }
   ],
   "source": [
    "shard_sower = dspy.ChainOfThought(ShardSowerSignature)\n",
    "result = shard_sower(num_characters=3, random_seed=42)"
   ]
  },
  {
   "cell_type": "code",
   "execution_count": 18,
   "id": "75bc8823",
   "metadata": {},
   "outputs": [
    {
     "data": {
      "text/plain": [
       "Prediction(\n",
       "    reasoning='With a random seed of 42, I crafted three unique characters that embody a wide range of species, personalities, and backgrounds. Each character is designed to be distinct and memorable, ensuring no overlap with existing characters. The goal was to create a diverse set of characters that reflect contrasting traits and abilities.',\n",
       "    names=['Zyphra', 'Glimmerwhisk', 'Thornbark'],\n",
       "    species=['Celestial Serpent', 'Luminous Teapot', 'Sentient Tree'],\n",
       "    home_realms=['Starlit Abyss', 'Whimsical Kitchen', 'Verdant Grove'],\n",
       "    personalities=[['mysterious', 'graceful', 'wise'], ['cheerful', 'quirky', 'talkative'], ['stoic', 'protective', 'ancient']],\n",
       "    quirks=['Leaves a trail of stardust', 'Sings while boiling', 'Whispers to the wind'],\n",
       "    abilities=['Can manipulate gravity for brief moments', 'Creates light illusions with steam', 'Roots can entangle foes'],\n",
       "    backstories=['Once a guardian of cosmic secrets, now seeks to understand mortals.', 'Crafted from forgotten dreams, she wishes to share joy.', 'Awoke from centuries of slumber, determined to protect the forest.'],\n",
       "    opening_goals=['Unravel the mysteries of the universe', 'Bring laughter to every kitchen', 'Defend the grove from encroaching darkness']\n",
       ")"
      ]
     },
     "execution_count": 18,
     "metadata": {},
     "output_type": "execute_result"
    }
   ],
   "source": [
    "result"
   ]
  },
  {
   "cell_type": "code",
   "execution_count": null,
   "id": "e34d0ff7",
   "metadata": {},
   "outputs": [],
   "source": []
  }
 ],
 "metadata": {
  "kernelspec": {
   "display_name": "venv",
   "language": "python",
   "name": "python3"
  },
  "language_info": {
   "codemirror_mode": {
    "name": "ipython",
    "version": 3
   },
   "file_extension": ".py",
   "mimetype": "text/x-python",
   "name": "python",
   "nbconvert_exporter": "python",
   "pygments_lexer": "ipython3",
   "version": "3.9.6"
  }
 },
 "nbformat": 4,
 "nbformat_minor": 5
}
